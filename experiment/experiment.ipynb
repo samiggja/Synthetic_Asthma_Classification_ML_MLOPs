{
 "cells": [
  {
   "cell_type": "code",
   "execution_count": 2,
   "id": "bec50b24",
   "metadata": {},
   "outputs": [],
   "source": [
    "import pandas as pd"
   ]
  },
  {
   "cell_type": "code",
   "execution_count": 26,
   "id": "dcb421e0",
   "metadata": {},
   "outputs": [],
   "source": [
    "data = pd.read_csv(r'C:\\Users\\wadood\\Desktop\\my personal proj\\main_data\\synthetic_asthma_dataset.csv')"
   ]
  },
  {
   "cell_type": "code",
   "execution_count": 27,
   "id": "5d8e27bd",
   "metadata": {},
   "outputs": [],
   "source": [
    "df = data.drop(columns=['Patient_ID'])"
   ]
  },
  {
   "cell_type": "code",
   "execution_count": 28,
   "id": "030eee1d",
   "metadata": {},
   "outputs": [
    {
     "data": {
      "text/html": [
       "<div>\n",
       "<style scoped>\n",
       "    .dataframe tbody tr th:only-of-type {\n",
       "        vertical-align: middle;\n",
       "    }\n",
       "\n",
       "    .dataframe tbody tr th {\n",
       "        vertical-align: top;\n",
       "    }\n",
       "\n",
       "    .dataframe thead th {\n",
       "        text-align: right;\n",
       "    }\n",
       "</style>\n",
       "<table border=\"1\" class=\"dataframe\">\n",
       "  <thead>\n",
       "    <tr style=\"text-align: right;\">\n",
       "      <th></th>\n",
       "      <th>Age</th>\n",
       "      <th>Gender</th>\n",
       "      <th>BMI</th>\n",
       "      <th>Smoking_Status</th>\n",
       "      <th>Family_History</th>\n",
       "      <th>Allergies</th>\n",
       "      <th>Air_Pollution_Level</th>\n",
       "      <th>Physical_Activity_Level</th>\n",
       "      <th>Occupation_Type</th>\n",
       "      <th>Comorbidities</th>\n",
       "      <th>Medication_Adherence</th>\n",
       "      <th>Number_of_ER_Visits</th>\n",
       "      <th>Peak_Expiratory_Flow</th>\n",
       "      <th>FeNO_Level</th>\n",
       "      <th>Has_Asthma</th>\n",
       "      <th>Asthma_Control_Level</th>\n",
       "    </tr>\n",
       "  </thead>\n",
       "  <tbody>\n",
       "    <tr>\n",
       "      <th>0</th>\n",
       "      <td>52</td>\n",
       "      <td>Female</td>\n",
       "      <td>27.6</td>\n",
       "      <td>Former</td>\n",
       "      <td>1</td>\n",
       "      <td>NaN</td>\n",
       "      <td>Moderate</td>\n",
       "      <td>Sedentary</td>\n",
       "      <td>Outdoor</td>\n",
       "      <td>Diabetes</td>\n",
       "      <td>0.38</td>\n",
       "      <td>0</td>\n",
       "      <td>421.0</td>\n",
       "      <td>46.0</td>\n",
       "      <td>0</td>\n",
       "      <td>NaN</td>\n",
       "    </tr>\n",
       "    <tr>\n",
       "      <th>1</th>\n",
       "      <td>15</td>\n",
       "      <td>Male</td>\n",
       "      <td>24.6</td>\n",
       "      <td>Former</td>\n",
       "      <td>0</td>\n",
       "      <td>Dust</td>\n",
       "      <td>Low</td>\n",
       "      <td>Moderate</td>\n",
       "      <td>Indoor</td>\n",
       "      <td>Both</td>\n",
       "      <td>0.60</td>\n",
       "      <td>2</td>\n",
       "      <td>297.6</td>\n",
       "      <td>22.9</td>\n",
       "      <td>0</td>\n",
       "      <td>NaN</td>\n",
       "    </tr>\n",
       "    <tr>\n",
       "      <th>2</th>\n",
       "      <td>72</td>\n",
       "      <td>Female</td>\n",
       "      <td>17.6</td>\n",
       "      <td>Never</td>\n",
       "      <td>0</td>\n",
       "      <td>NaN</td>\n",
       "      <td>Moderate</td>\n",
       "      <td>Moderate</td>\n",
       "      <td>Indoor</td>\n",
       "      <td>NaN</td>\n",
       "      <td>0.38</td>\n",
       "      <td>0</td>\n",
       "      <td>303.3</td>\n",
       "      <td>15.3</td>\n",
       "      <td>0</td>\n",
       "      <td>NaN</td>\n",
       "    </tr>\n",
       "  </tbody>\n",
       "</table>\n",
       "</div>"
      ],
      "text/plain": [
       "   Age  Gender   BMI Smoking_Status  Family_History Allergies  \\\n",
       "0   52  Female  27.6         Former               1       NaN   \n",
       "1   15    Male  24.6         Former               0      Dust   \n",
       "2   72  Female  17.6          Never               0       NaN   \n",
       "\n",
       "  Air_Pollution_Level Physical_Activity_Level Occupation_Type Comorbidities  \\\n",
       "0            Moderate               Sedentary         Outdoor      Diabetes   \n",
       "1                 Low                Moderate          Indoor          Both   \n",
       "2            Moderate                Moderate          Indoor           NaN   \n",
       "\n",
       "   Medication_Adherence  Number_of_ER_Visits  Peak_Expiratory_Flow  \\\n",
       "0                  0.38                    0                 421.0   \n",
       "1                  0.60                    2                 297.6   \n",
       "2                  0.38                    0                 303.3   \n",
       "\n",
       "   FeNO_Level  Has_Asthma Asthma_Control_Level  \n",
       "0        46.0           0                  NaN  \n",
       "1        22.9           0                  NaN  \n",
       "2        15.3           0                  NaN  "
      ]
     },
     "execution_count": 28,
     "metadata": {},
     "output_type": "execute_result"
    }
   ],
   "source": [
    "df.head(3)"
   ]
  },
  {
   "cell_type": "code",
   "execution_count": 29,
   "id": "82d27263",
   "metadata": {},
   "outputs": [
    {
     "data": {
      "text/plain": [
       "Age                           0\n",
       "Gender                        0\n",
       "BMI                           0\n",
       "Smoking_Status                0\n",
       "Family_History                0\n",
       "Allergies                  2936\n",
       "Air_Pollution_Level           0\n",
       "Physical_Activity_Level       0\n",
       "Occupation_Type               0\n",
       "Comorbidities              4967\n",
       "Medication_Adherence          0\n",
       "Number_of_ER_Visits           0\n",
       "Peak_Expiratory_Flow          0\n",
       "FeNO_Level                    0\n",
       "Has_Asthma                    0\n",
       "Asthma_Control_Level       7567\n",
       "dtype: int64"
      ]
     },
     "execution_count": 29,
     "metadata": {},
     "output_type": "execute_result"
    }
   ],
   "source": [
    "df.isnull().sum()"
   ]
  },
  {
   "cell_type": "code",
   "execution_count": 30,
   "id": "81339b91",
   "metadata": {},
   "outputs": [
    {
     "data": {
      "text/plain": [
       "array([nan, 'Poorly Controlled', 'Not Controlled', 'Well Controlled'],\n",
       "      dtype=object)"
      ]
     },
     "execution_count": 30,
     "metadata": {},
     "output_type": "execute_result"
    }
   ],
   "source": [
    "df['Asthma_Control_Level'].unique()"
   ]
  },
  {
   "cell_type": "code",
   "execution_count": 31,
   "id": "b9725d63",
   "metadata": {},
   "outputs": [],
   "source": [
    "df['Allergies'] = df['Allergies'].fillna(df['Allergies'].mode()[0])\n",
    "df['Comorbidities'] = df['Comorbidities'].fillna(df['Comorbidities'].mode()[0])\n",
    "df['Asthma_Control_Level'] = df['Asthma_Control_Level'].fillna(df['Asthma_Control_Level'].mode()[0])"
   ]
  },
  {
   "cell_type": "code",
   "execution_count": 38,
   "id": "35421bc6",
   "metadata": {},
   "outputs": [
    {
     "name": "stdout",
     "output_type": "stream",
     "text": [
      "Gender ------->    ['Female' 'Male' 'Other']\n",
      "Smoking_Status ------->    ['Former' 'Never' 'Current']\n",
      "Allergies ------->    ['Dust' 'Multiple' 'Pollen' 'Pets']\n",
      "Air_Pollution_Level ------->    ['Moderate' 'Low' 'High']\n",
      "Physical_Activity_Level ------->    ['Sedentary' 'Moderate' 'Active']\n",
      "Occupation_Type ------->    ['Outdoor' 'Indoor']\n",
      "Comorbidities ------->    ['Diabetes' 'Both' 'Hypertension']\n",
      "Asthma_Control_Level ------->    ['Not Controlled' 'Poorly Controlled' 'Well Controlled']\n"
     ]
    }
   ],
   "source": [
    "col = list(df.columns)\n",
    "for i in col:\n",
    "    if df[i].dtype == object:\n",
    "        print(i, '------->   ', df[i].unique())"
   ]
  },
  {
   "cell_type": "code",
   "execution_count": null,
   "id": "3d8d838d",
   "metadata": {},
   "outputs": [],
   "source": [
    "target = ['Gender', '']"
   ]
  }
 ],
 "metadata": {
  "kernelspec": {
   "display_name": "Python 3",
   "language": "python",
   "name": "python3"
  },
  "language_info": {
   "codemirror_mode": {
    "name": "ipython",
    "version": 3
   },
   "file_extension": ".py",
   "mimetype": "text/x-python",
   "name": "python",
   "nbconvert_exporter": "python",
   "pygments_lexer": "ipython3",
   "version": "3.13.6"
  }
 },
 "nbformat": 4,
 "nbformat_minor": 5
}
